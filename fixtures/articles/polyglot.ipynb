{
 "cells": [
  {
   "cell_type": "markdown",
   "source": [
    "# Introduction\n",
    "\n",
    "This Jupyter Notebook test fixture illustrates having code cells and code expressions with different languages.\n",
    "\n",
    "# Code expressions\n",
    "\n",
    "Inline code expressions, using the backtick syntax (with the `exec` keyword) can specify the language like so: `2*2`{python exec}. Alternatively the double brace syntax can also specify the language: {{3+3}}{r}. If code expressions do not specify a langauge, then Stencila falls back to the language of the notebook e.g. `4*4`{exec} and {{5+5}}.\n",
    "\n",
    "# Code cells\n",
    "\n",
    "Jupyter code cells in a notebook normally all use the same language. However, if a cell has a `language_info.name` specified in their `metadata` property then Stencila will use that, rather than the language from the top-level metadata of the notebook."
   ],
   "metadata": {}
  },
  {
   "cell_type": "code",
   "execution_count": null,
   "source": [
    "# Python"
   ],
   "outputs": [],
   "metadata": {}
  },
  {
   "cell_type": "code",
   "execution_count": null,
   "source": [
    "// JavaScript"
   ],
   "outputs": [],
   "metadata": {
    "language_info": {
     "name": "javascript"
    }
   }
  }
 ],
 "metadata": {
  "orig_nbformat": 4,
  "language_info": {
   "name": "python",
   "version": "3.8.10",
   "mimetype": "text/x-python",
   "codemirror_mode": {
    "name": "ipython",
    "version": 3
   },
   "pygments_lexer": "ipython3",
   "nbconvert_exporter": "python",
   "file_extension": ".py"
  },
  "kernelspec": {
   "name": "python3",
   "display_name": "Python 3.8.10 64-bit"
  },
  "interpreter": {
   "hash": "916dbcbb3f70747c44a77c7bcd40155683ae19c65e1c03b4aa3499c5328201f1"
  }
 },
 "nbformat": 4,
 "nbformat_minor": 2
}